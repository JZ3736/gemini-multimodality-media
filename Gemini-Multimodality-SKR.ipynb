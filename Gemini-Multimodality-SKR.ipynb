{
 "cells": [
  {
   "cell_type": "markdown",
   "metadata": {
    "id": "VEqbX8OhE8y9",
    "tags": []
   },
   "source": [
    "# Gemini<>SKR Multi-Modal Use cases\n",
    "\n"
   ]
  },
  {
   "cell_type": "markdown",
   "metadata": {
    "id": "VK1Q5ZYdVL4Y"
   },
   "source": [
    "## Overview and Goal\n",
    "\n",
    "Skr is a cloud based live video editing service provider\n",
    "\n",
    "In this notebook, we are going to explore \"the art of possible\", showcase a variety of different use cases to further enrich and advance live video streaming personalization by leveraing gemini multimodality.\n",
    "\n",
    "### Vertex AI Gemini API\n",
    "\n",
    "- **Gemini 1.5 Flash** (`gemini-1.5-flash`): Gemini 1.5 Flash was purpose-built as our fastest, most cost-efficient model yet for high volume tasks, at scale, to address developers’ feedback asking for lower latency and cost. \n",
    "\n",
    "Please note: This notebook is designed to help conceptualize and visualize use cases. Evaluation is done by humans, and while we strive for accuracy, there's no guarantee that all hallucinations (incorrect outputs) have been eliminated."
   ]
  },
  {
   "cell_type": "markdown",
   "metadata": {
    "id": "N5afkyDMSBW5",
    "tags": []
   },
   "source": [
    "### Install Vertex AI SDK for Python and auth user(colab only)\n"
   ]
  },
  {
   "cell_type": "code",
   "execution_count": 1,
   "metadata": {},
   "outputs": [
    {
     "ename": "ModuleNotFoundError",
     "evalue": "No module named 'google.colab'",
     "output_type": "error",
     "traceback": [
      "\u001b[0;31m---------------------------------------------------------------------------\u001b[0m",
      "\u001b[0;31mModuleNotFoundError\u001b[0m                       Traceback (most recent call last)",
      "Cell \u001b[0;32mIn[1], line 1\u001b[0m\n\u001b[0;32m----> 1\u001b[0m \u001b[38;5;28;01mfrom\u001b[39;00m \u001b[38;5;21;01mgoogle\u001b[39;00m\u001b[38;5;21;01m.\u001b[39;00m\u001b[38;5;21;01mcolab\u001b[39;00m \u001b[38;5;28;01mimport\u001b[39;00m auth \u001b[38;5;28;01mas\u001b[39;00m google_auth\n\u001b[1;32m      2\u001b[0m google_auth\u001b[38;5;241m.\u001b[39mauthenticate_user()\n",
      "\u001b[0;31mModuleNotFoundError\u001b[0m: No module named 'google.colab'"
     ]
    }
   ],
   "source": [
    "from google.colab import auth as google_auth\n",
    "google_auth.authenticate_user()"
   ]
  },
  {
   "cell_type": "code",
   "execution_count": 2,
   "metadata": {
    "id": "kc4WxYmLSBW5",
    "tags": []
   },
   "outputs": [
    {
     "name": "stdout",
     "output_type": "stream",
     "text": [
      "Requirement already satisfied: google-cloud-aiplatform in ./.local/lib/python3.10/site-packages (1.54.1)\n",
      "Collecting google-cloud-aiplatform\n",
      "  Downloading google_cloud_aiplatform-1.55.0-py2.py3-none-any.whl.metadata (31 kB)\n",
      "Requirement already satisfied: google-api-core!=2.0.*,!=2.1.*,!=2.2.*,!=2.3.*,!=2.4.*,!=2.5.*,!=2.6.*,!=2.7.*,<3.0.0dev,>=1.34.1 in /opt/conda/lib/python3.10/site-packages (from google-api-core[grpc]!=2.0.*,!=2.1.*,!=2.2.*,!=2.3.*,!=2.4.*,!=2.5.*,!=2.6.*,!=2.7.*,<3.0.0dev,>=1.34.1->google-cloud-aiplatform) (1.34.1)\n",
      "Requirement already satisfied: google-auth<3.0.0dev,>=2.14.1 in /opt/conda/lib/python3.10/site-packages (from google-cloud-aiplatform) (2.29.0)\n",
      "Requirement already satisfied: proto-plus<2.0.0dev,>=1.22.0 in /opt/conda/lib/python3.10/site-packages (from google-cloud-aiplatform) (1.23.0)\n",
      "Requirement already satisfied: protobuf!=3.20.0,!=3.20.1,!=4.21.0,!=4.21.1,!=4.21.2,!=4.21.3,!=4.21.4,!=4.21.5,<5.0.0dev,>=3.19.5 in /opt/conda/lib/python3.10/site-packages (from google-cloud-aiplatform) (3.20.3)\n",
      "Requirement already satisfied: packaging>=14.3 in /opt/conda/lib/python3.10/site-packages (from google-cloud-aiplatform) (24.0)\n",
      "Requirement already satisfied: google-cloud-storage<3.0.0dev,>=1.32.0 in /opt/conda/lib/python3.10/site-packages (from google-cloud-aiplatform) (2.14.0)\n",
      "Requirement already satisfied: google-cloud-bigquery!=3.20.0,<4.0.0dev,>=1.15.0 in /opt/conda/lib/python3.10/site-packages (from google-cloud-aiplatform) (3.22.0)\n",
      "Requirement already satisfied: google-cloud-resource-manager<3.0.0dev,>=1.3.3 in /opt/conda/lib/python3.10/site-packages (from google-cloud-aiplatform) (1.12.3)\n",
      "Requirement already satisfied: shapely<3.0.0dev in /opt/conda/lib/python3.10/site-packages (from google-cloud-aiplatform) (2.0.4)\n",
      "Requirement already satisfied: pydantic<3 in /opt/conda/lib/python3.10/site-packages (from google-cloud-aiplatform) (2.7.1)\n",
      "Requirement already satisfied: docstring-parser<1 in /opt/conda/lib/python3.10/site-packages (from google-cloud-aiplatform) (0.16)\n",
      "Requirement already satisfied: googleapis-common-protos<2.0dev,>=1.56.2 in /opt/conda/lib/python3.10/site-packages (from google-api-core!=2.0.*,!=2.1.*,!=2.2.*,!=2.3.*,!=2.4.*,!=2.5.*,!=2.6.*,!=2.7.*,<3.0.0dev,>=1.34.1->google-api-core[grpc]!=2.0.*,!=2.1.*,!=2.2.*,!=2.3.*,!=2.4.*,!=2.5.*,!=2.6.*,!=2.7.*,<3.0.0dev,>=1.34.1->google-cloud-aiplatform) (1.63.0)\n",
      "Requirement already satisfied: requests<3.0.0dev,>=2.18.0 in /opt/conda/lib/python3.10/site-packages (from google-api-core!=2.0.*,!=2.1.*,!=2.2.*,!=2.3.*,!=2.4.*,!=2.5.*,!=2.6.*,!=2.7.*,<3.0.0dev,>=1.34.1->google-api-core[grpc]!=2.0.*,!=2.1.*,!=2.2.*,!=2.3.*,!=2.4.*,!=2.5.*,!=2.6.*,!=2.7.*,<3.0.0dev,>=1.34.1->google-cloud-aiplatform) (2.31.0)\n",
      "Requirement already satisfied: grpcio<2.0dev,>=1.33.2 in /opt/conda/lib/python3.10/site-packages (from google-api-core[grpc]!=2.0.*,!=2.1.*,!=2.2.*,!=2.3.*,!=2.4.*,!=2.5.*,!=2.6.*,!=2.7.*,<3.0.0dev,>=1.34.1->google-cloud-aiplatform) (1.63.0)\n",
      "Requirement already satisfied: grpcio-status<2.0dev,>=1.33.2 in /opt/conda/lib/python3.10/site-packages (from google-api-core[grpc]!=2.0.*,!=2.1.*,!=2.2.*,!=2.3.*,!=2.4.*,!=2.5.*,!=2.6.*,!=2.7.*,<3.0.0dev,>=1.34.1->google-cloud-aiplatform) (1.48.2)\n",
      "Requirement already satisfied: cachetools<6.0,>=2.0.0 in /opt/conda/lib/python3.10/site-packages (from google-auth<3.0.0dev,>=2.14.1->google-cloud-aiplatform) (5.3.3)\n",
      "Requirement already satisfied: pyasn1-modules>=0.2.1 in /opt/conda/lib/python3.10/site-packages (from google-auth<3.0.0dev,>=2.14.1->google-cloud-aiplatform) (0.4.0)\n",
      "Requirement already satisfied: rsa<5,>=3.1.4 in /opt/conda/lib/python3.10/site-packages (from google-auth<3.0.0dev,>=2.14.1->google-cloud-aiplatform) (4.9)\n",
      "Requirement already satisfied: google-cloud-core<3.0.0dev,>=1.6.0 in /opt/conda/lib/python3.10/site-packages (from google-cloud-bigquery!=3.20.0,<4.0.0dev,>=1.15.0->google-cloud-aiplatform) (2.4.1)\n",
      "Requirement already satisfied: google-resumable-media<3.0dev,>=0.6.0 in /opt/conda/lib/python3.10/site-packages (from google-cloud-bigquery!=3.20.0,<4.0.0dev,>=1.15.0->google-cloud-aiplatform) (2.7.0)\n",
      "Requirement already satisfied: python-dateutil<3.0dev,>=2.7.2 in /opt/conda/lib/python3.10/site-packages (from google-cloud-bigquery!=3.20.0,<4.0.0dev,>=1.15.0->google-cloud-aiplatform) (2.9.0)\n",
      "Requirement already satisfied: grpc-google-iam-v1<1.0.0dev,>=0.12.4 in /opt/conda/lib/python3.10/site-packages (from google-cloud-resource-manager<3.0.0dev,>=1.3.3->google-cloud-aiplatform) (0.13.0)\n",
      "Requirement already satisfied: google-crc32c<2.0dev,>=1.0 in /opt/conda/lib/python3.10/site-packages (from google-cloud-storage<3.0.0dev,>=1.32.0->google-cloud-aiplatform) (1.5.0)\n",
      "Requirement already satisfied: annotated-types>=0.4.0 in /opt/conda/lib/python3.10/site-packages (from pydantic<3->google-cloud-aiplatform) (0.6.0)\n",
      "Requirement already satisfied: pydantic-core==2.18.2 in /opt/conda/lib/python3.10/site-packages (from pydantic<3->google-cloud-aiplatform) (2.18.2)\n",
      "Requirement already satisfied: typing-extensions>=4.6.1 in /opt/conda/lib/python3.10/site-packages (from pydantic<3->google-cloud-aiplatform) (4.11.0)\n",
      "Requirement already satisfied: numpy<3,>=1.14 in /opt/conda/lib/python3.10/site-packages (from shapely<3.0.0dev->google-cloud-aiplatform) (1.26.4)\n",
      "Requirement already satisfied: pyasn1<0.7.0,>=0.4.6 in /opt/conda/lib/python3.10/site-packages (from pyasn1-modules>=0.2.1->google-auth<3.0.0dev,>=2.14.1->google-cloud-aiplatform) (0.6.0)\n",
      "Requirement already satisfied: six>=1.5 in /opt/conda/lib/python3.10/site-packages (from python-dateutil<3.0dev,>=2.7.2->google-cloud-bigquery!=3.20.0,<4.0.0dev,>=1.15.0->google-cloud-aiplatform) (1.16.0)\n",
      "Requirement already satisfied: charset-normalizer<4,>=2 in /opt/conda/lib/python3.10/site-packages (from requests<3.0.0dev,>=2.18.0->google-api-core!=2.0.*,!=2.1.*,!=2.2.*,!=2.3.*,!=2.4.*,!=2.5.*,!=2.6.*,!=2.7.*,<3.0.0dev,>=1.34.1->google-api-core[grpc]!=2.0.*,!=2.1.*,!=2.2.*,!=2.3.*,!=2.4.*,!=2.5.*,!=2.6.*,!=2.7.*,<3.0.0dev,>=1.34.1->google-cloud-aiplatform) (3.3.2)\n",
      "Requirement already satisfied: idna<4,>=2.5 in /opt/conda/lib/python3.10/site-packages (from requests<3.0.0dev,>=2.18.0->google-api-core!=2.0.*,!=2.1.*,!=2.2.*,!=2.3.*,!=2.4.*,!=2.5.*,!=2.6.*,!=2.7.*,<3.0.0dev,>=1.34.1->google-api-core[grpc]!=2.0.*,!=2.1.*,!=2.2.*,!=2.3.*,!=2.4.*,!=2.5.*,!=2.6.*,!=2.7.*,<3.0.0dev,>=1.34.1->google-cloud-aiplatform) (3.7)\n",
      "Requirement already satisfied: urllib3<3,>=1.21.1 in /opt/conda/lib/python3.10/site-packages (from requests<3.0.0dev,>=2.18.0->google-api-core!=2.0.*,!=2.1.*,!=2.2.*,!=2.3.*,!=2.4.*,!=2.5.*,!=2.6.*,!=2.7.*,<3.0.0dev,>=1.34.1->google-api-core[grpc]!=2.0.*,!=2.1.*,!=2.2.*,!=2.3.*,!=2.4.*,!=2.5.*,!=2.6.*,!=2.7.*,<3.0.0dev,>=1.34.1->google-cloud-aiplatform) (1.26.18)\n",
      "Requirement already satisfied: certifi>=2017.4.17 in /opt/conda/lib/python3.10/site-packages (from requests<3.0.0dev,>=2.18.0->google-api-core!=2.0.*,!=2.1.*,!=2.2.*,!=2.3.*,!=2.4.*,!=2.5.*,!=2.6.*,!=2.7.*,<3.0.0dev,>=1.34.1->google-api-core[grpc]!=2.0.*,!=2.1.*,!=2.2.*,!=2.3.*,!=2.4.*,!=2.5.*,!=2.6.*,!=2.7.*,<3.0.0dev,>=1.34.1->google-cloud-aiplatform) (2024.2.2)\n",
      "Downloading google_cloud_aiplatform-1.55.0-py2.py3-none-any.whl (5.1 MB)\n",
      "\u001b[2K   \u001b[90m━━━━━━━━━━━━━━━━━━━━━━━━━━━━━━━━━━━━━━━━\u001b[0m \u001b[32m5.1/5.1 MB\u001b[0m \u001b[31m19.0 MB/s\u001b[0m eta \u001b[36m0:00:00\u001b[0m00:01\u001b[0m00:01\u001b[0m\n",
      "\u001b[?25hInstalling collected packages: google-cloud-aiplatform\n",
      "  Attempting uninstall: google-cloud-aiplatform\n",
      "    Found existing installation: google-cloud-aiplatform 1.54.1\n",
      "    Uninstalling google-cloud-aiplatform-1.54.1:\n",
      "      Successfully uninstalled google-cloud-aiplatform-1.54.1\n",
      "\u001b[33m  WARNING: The script tb-gcp-uploader is installed in '/home/jupyter/.local/bin' which is not on PATH.\n",
      "  Consider adding this directory to PATH or, if you prefer to suppress this warning, use --no-warn-script-location.\u001b[0m\u001b[33m\n",
      "\u001b[0mSuccessfully installed google-cloud-aiplatform-1.55.0\n"
     ]
    }
   ],
   "source": [
    "! pip3 install --upgrade --user google-cloud-aiplatform"
   ]
  },
  {
   "cell_type": "markdown",
   "metadata": {
    "id": "R5Xep4W9lq-Z"
   },
   "source": [
    "### Restart runtime\n"
   ]
  },
  {
   "cell_type": "code",
   "execution_count": 3,
   "metadata": {
    "colab": {
     "base_uri": "https://localhost:8080/"
    },
    "id": "XRvKdaPDTznN",
    "outputId": "154a71b5-f302-4f53-ed2f-b3e5fef9195b",
    "tags": []
   },
   "outputs": [
    {
     "data": {
      "text/plain": [
       "{'status': 'ok', 'restart': True}"
      ]
     },
     "execution_count": 3,
     "metadata": {},
     "output_type": "execute_result"
    }
   ],
   "source": [
    "import IPython\n",
    "import time\n",
    "\n",
    "app = IPython.Application.instance()\n",
    "app.kernel.do_shutdown(True)"
   ]
  },
  {
   "cell_type": "markdown",
   "metadata": {
    "id": "QGB8Txa_e4V0"
   },
   "source": [
    "### Initialize project and install SDK\n"
   ]
  },
  {
   "cell_type": "code",
   "execution_count": 1,
   "metadata": {
    "id": "JGOJHtgDe5-r",
    "tags": []
   },
   "outputs": [],
   "source": [
    "PROJECT_ID = \"jz-amigo-1\"  # @param {type:\"string\"}\n",
    "LOCATION = \"us-central1\"  # @param {type:\"string\"}\n",
    "\n",
    "import vertexai\n",
    "\n",
    "vertexai.init(project=PROJECT_ID, location=LOCATION)"
   ]
  },
  {
   "cell_type": "code",
   "execution_count": 2,
   "metadata": {
    "id": "JTk488WDPBtQ",
    "tags": []
   },
   "outputs": [],
   "source": [
    "from vertexai.generative_models import (\n",
    "    GenerationConfig,\n",
    "    GenerativeModel,\n",
    "    Image,\n",
    "    Part,\n",
    ")"
   ]
  },
  {
   "cell_type": "markdown",
   "metadata": {
    "id": "N7rZuTClfNs0"
   },
   "source": [
    "## Use Gemini 1.5 flash model"
   ]
  },
  {
   "cell_type": "code",
   "execution_count": 3,
   "metadata": {
    "id": "2998506fe6d1",
    "tags": []
   },
   "outputs": [],
   "source": [
    "multimodal_model = GenerativeModel(\"gemini-1.5-flash\")"
   ]
  },
  {
   "cell_type": "markdown",
   "metadata": {
    "id": "MpL3OkSCfIAR"
   },
   "source": [
    "### Define helper functions\n"
   ]
  },
  {
   "cell_type": "code",
   "execution_count": 4,
   "metadata": {
    "id": "S7QMAHXse339",
    "tags": []
   },
   "outputs": [],
   "source": [
    "import http.client\n",
    "import typing\n",
    "import urllib.request\n",
    "\n",
    "import IPython.display\n",
    "from PIL import Image as PIL_Image\n",
    "from PIL import ImageOps as PIL_ImageOps\n",
    "\n",
    "\n",
    "def display_images(\n",
    "    images: typing.Iterable[Image],\n",
    "    max_width: int = 600,\n",
    "    max_height: int = 350,\n",
    ") -> None:\n",
    "    for image in images:\n",
    "        pil_image = typing.cast(PIL_Image.Image, image._pil_image)\n",
    "        if pil_image.mode != \"RGB\":\n",
    "            # RGB is supported by all Jupyter environments (e.g. RGBA is not yet)\n",
    "            pil_image = pil_image.convert(\"RGB\")\n",
    "        image_width, image_height = pil_image.size\n",
    "        if max_width < image_width or max_height < image_height:\n",
    "            # Resize to display a smaller notebook image\n",
    "            pil_image = PIL_ImageOps.contain(pil_image, (max_width, max_height))\n",
    "        IPython.display.display(pil_image)\n",
    "\n",
    "\n",
    "def get_image_bytes_from_url(image_url: str) -> bytes:\n",
    "    with urllib.request.urlopen(image_url) as response:\n",
    "        response = typing.cast(http.client.HTTPResponse, response)\n",
    "        image_bytes = response.read()\n",
    "    return image_bytes\n",
    "\n",
    "\n",
    "def load_image_from_url(image_url: str) -> Image:\n",
    "    image_bytes = get_image_bytes_from_url(image_url)\n",
    "    return Image.from_bytes(image_bytes)\n",
    "\n",
    "\n",
    "def display_content_as_image(content: str | Image | Part) -> bool:\n",
    "    if not isinstance(content, Image):\n",
    "        return False\n",
    "    display_images([content])\n",
    "    return True\n",
    "\n",
    "\n",
    "def display_content_as_video(content: str | Image | Part) -> bool:\n",
    "    if not isinstance(content, Part):\n",
    "        return False\n",
    "    part = typing.cast(Part, content)\n",
    "    file_path = part.file_data.file_uri.removeprefix(\"gs://\")\n",
    "    video_url = f\"https://storage.googleapis.com/{file_path}\"\n",
    "    print (video_url)\n",
    "    IPython.display.display(IPython.display.Video(video_url, width=600))\n",
    "    return True\n",
    "\n",
    "\n",
    "def print_multimodal_prompt(contents: list[str | Image | Part]):\n",
    "    \"\"\"\n",
    "    Given contents that would be sent to Gemini,\n",
    "    output the full multimodal prompt for ease of readability.\n",
    "    \"\"\"\n",
    "    for content in contents:\n",
    "        if display_content_as_image(content):\n",
    "            continue\n",
    "        if display_content_as_video(content):\n",
    "            continue\n",
    "        print(content)"
   ]
  },
  {
   "cell_type": "markdown",
   "metadata": {
    "id": "dN8nVlITK5kz"
   },
   "source": [
    "## Use Case 1: Viewer Live Interaction\n"
   ]
  },
  {
   "cell_type": "code",
   "execution_count": 5,
   "metadata": {
    "colab": {
     "base_uri": "https://localhost:8080/"
    },
    "id": "tT2nArvxZv-P",
    "outputId": "81383d32-7f43-47d6-c375-d93cc5be5f4d",
    "tags": []
   },
   "outputs": [
    {
     "name": "stdout",
     "output_type": "stream",
     "text": [
      "-------Prompt--------\n",
      "\n",
      "- What is shown in this video?\n",
      "- Where is the location of this video?\n",
      "- What is the score at the beginning of the video?\n",
      "- What is the score at the end of the video?\n",
      "- who's on deck?\n",
      "- What was the last pitch?\n",
      "\n",
      "\n",
      "https://storage.googleapis.com/gemini-bucket-373/Tigers vs. Red Sox Game Highlights (5_31_24) _ MLB Highlights.mp4\n"
     ]
    },
    {
     "data": {
      "text/html": [
       "<video src=\"https://storage.googleapis.com/gemini-bucket-373/Tigers vs. Red Sox Game Highlights (5_31_24) _ MLB Highlights.mp4\" controls  width=\"600\" >\n",
       "      Your browser does not support the <code>video</code> element.\n",
       "    </video>"
      ],
      "text/plain": [
       "<IPython.core.display.Video object>"
      ]
     },
     "metadata": {},
     "output_type": "display_data"
    },
    {
     "name": "stdout",
     "output_type": "stream",
     "text": [
      "\n",
      "-------Response--------\n",
      "- The video shows a baseball game between the Boston Red Sox and the Detroit Tigers.\n",
      "- The location of the video is Fenway Park in Boston.\n",
      "- The score at the beginning of the video is Detroit 0, Boston 0.\n",
      "- The score at the end of the video is Detroit 3, Boston 7.\n",
      "- The player on deck is Connor Wong.\n",
      "- The last pitch was a 96 MPH fastball. \n"
     ]
    }
   ],
   "source": [
    "prompt = \"\"\"\n",
    "- What is shown in this video?\n",
    "- Where is the location of this video?\n",
    "- What is the score at the beginning of the video?\n",
    "- What is the score at the end of the video?\n",
    "- who's on deck?\n",
    "- What was the last pitch?\n",
    "\n",
    "\"\"\"\n",
    "video = Part.from_uri(\n",
    "    uri=\"gs://gemini-bucket-373/Tigers vs. Red Sox Game Highlights (5_31_24) _ MLB Highlights.mp4\",\n",
    "    mime_type=\"video/mp4\",\n",
    ")\n",
    "contents = [prompt, video]\n",
    "\n",
    "responses = multimodal_model.generate_content(contents, stream=True)\n",
    "\n",
    "print(\"-------Prompt--------\")\n",
    "print_multimodal_prompt(contents)\n",
    "\n",
    "print(\"\\n-------Response--------\")\n",
    "for response in responses:\n",
    "    print(response.text, end=\"\")"
   ]
  },
  {
   "cell_type": "markdown",
   "metadata": {
    "id": "ksjZiIfnO0zQ"
   },
   "source": [
    "## Use Case 2: Entity Extraction for Integration\n",
    "- Fantasy Sports Platform: real time statistics and player performance data to be used to update fantasy sports\n",
    "- Sports Betting Platform: Game statistics can inform betting odds in real time\n",
    "- Social Media Platform: Highlights, key moments, hashtags to generate buzz and engagements\n",
    "- Sports News Channels: Game data to be used for news broadcasting\n",
    "- E-commerce integration: advertisement\n"
   ]
  },
  {
   "cell_type": "code",
   "execution_count": 6,
   "metadata": {
    "colab": {
     "base_uri": "https://localhost:8080/"
    },
    "id": "b9qE2GGIA975",
    "outputId": "bbe9dcee-772e-4d8d-8d8c-6ee03606ea78",
    "tags": []
   },
   "outputs": [
    {
     "name": "stdout",
     "output_type": "stream",
     "text": [
      "-------Prompt--------\n",
      "\n",
      "Answer the following questions using the video only:\n",
      "- What are the names and their numbers of baseball players appeared in this video?\n",
      "- What are commercial logos appeared in this video?\n",
      "Provide the answer JSON.\n",
      "\n",
      "https://storage.googleapis.com/gemini-bucket-373/Tigers vs. Red Sox Game Highlights (5_31_24) _ MLB Highlights.mp4\n"
     ]
    },
    {
     "data": {
      "text/html": [
       "<video src=\"https://storage.googleapis.com/gemini-bucket-373/Tigers vs. Red Sox Game Highlights (5_31_24) _ MLB Highlights.mp4\" controls  width=\"600\" >\n",
       "      Your browser does not support the <code>video</code> element.\n",
       "    </video>"
      ],
      "text/plain": [
       "<IPython.core.display.Video object>"
      ]
     },
     "metadata": {},
     "output_type": "display_data"
    },
    {
     "name": "stdout",
     "output_type": "stream",
     "text": [
      "\n",
      "-------Response--------\n",
      "```json\n",
      "{\n",
      " \"baseball_players\": [\n",
      "  {\n",
      "   \"name\": \"Tanner Houck\",\n",
      "   \"number\": 89\n",
      "  },\n",
      "  {\n",
      "   \"name\": \"Wenceel Perez\",\n",
      "   \"number\": 5\n",
      "  },\n",
      "  {\n",
      "   \"name\": \"Vaughn Grissom\",\n",
      "   \"number\": 84\n",
      "  },\n",
      "  {\n",
      "   \"name\": \"Riley Greene\",\n",
      "   \"number\": 31\n",
      "  },\n",
      "  {\n",
      "   \"name\": \"Willier Abreu\",\n",
      "   \"number\": 39\n",
      "  },\n",
      "  {\n",
      "   \"name\": \"Zach McKinstry\",\n",
      "   \"number\": 33\n",
      "  },\n",
      "  {\n",
      "   \"name\": \"Rafael Devers\",\n",
      "   \"number\": 11\n",
      "  },\n",
      "  {\n",
      "   \"name\": \"Dom Smith\",\n",
      "   \"number\": 43\n",
      "  },\n",
      "  {\n",
      "   \"name\": \"Colt Keith\",\n",
      "   \"number\": 33\n",
      "  },\n",
      "  {\n",
      "   \"name\": \"Kenta Maeda\",\n",
      "   \"number\": 18\n",
      "  }\n",
      " ],\n",
      " \"commercial_logos\": [\n",
      "  {\n",
      "   \"name\": \"MLB App\"\n",
      "  },\n",
      "  {\n",
      "   \"name\": \"BETMGM\"\n",
      "  },\n",
      "  {\n",
      "   \"name\": \"MassMutual\"\n",
      "  },\n",
      "  {\n",
      "   \"name\": \"MLB.TV\"\n",
      "  },\n",
      "  {\n",
      "   \"name\": \"AtBat\"\n",
      "  },\n",
      "  {\n",
      "   \"name\": \"Chevrolet\"\n",
      "  },\n",
      "  {\n",
      "   \"name\": \"Build Submarines\"\n",
      "  },\n",
      "  {\n",
      "   \"name\": \"Wasabi\"\n",
      "  },\n",
      "  {\n",
      "   \"name\": \"Harvard Pilgrim Health Care\"\n",
      "  },\n",
      "  {\n",
      "   \"name\": \"Bank of America\"\n",
      "  },\n",
      "  {\n",
      "   \"name\": \"Twisted Tea\"\n",
      "  },\n",
      "  {\n",
      "   \"name\": \"L.L. Bean\"\n",
      "  },\n",
      "  {\n",
      "   \"name\": \"JetBlue\"\n",
      "  },\n",
      "  {\n",
      "   \"name\": \"Granite City\"\n",
      "  },\n",
      "  {\n",
      "   \"name\": \"New Balance\"\n",
      "  },\n",
      "  {\n",
      "   \"name\": \"Ford\"\n",
      "  },\n",
      "  {\n",
      "   \"name\": \"Truly\"\n",
      "  },\n",
      "  {\n",
      "   \"name\": \"Clear Result\"\n",
      "  },\n",
      "  {\n",
      "   \"name\": \"SeatGeek\"\n",
      "  },\n",
      "  {\n",
      "   \"name\": \"Draft Kings\"\n",
      "  },\n",
      "  {\n",
      "   \"name\": \"Fanatics\"\n",
      "  },\n",
      "  {\n",
      "   \"name\": \"National\"\n",
      "  },\n",
      "  {\n",
      "   \"name\": \"Jim Beam\"\n",
      "  },\n",
      "  {\n",
      "   \"name\": \"Red Sox Scholars\"\n",
      "  },\n",
      "  {\n",
      "   \"name\": \"Who But\"\n",
      "  },\n",
      "  {\n",
      "   \"name\": \"W.B. Mason\"\n",
      "  },\n",
      "  {\n",
      "   \"name\": \"CVS\"\n",
      "  },\n",
      "  {\n",
      "   \"name\": \"Health\"\n",
      "  },\n",
      "  {\n",
      "   \"name\": \"Fandul\"\n",
      "  },\n",
      "  {\n",
      "   \"name\": \"RedSox.com\"\n",
      "  },\n",
      "  {\n",
      "   \"name\": \"PlayBall\"\n",
      "  },\n",
      "  {\n",
      "   \"name\": \"MLB\"\n",
      "  },\n",
      "  {\n",
      "   \"name\": \"T-Mobile\"\n",
      "  },\n",
      "  {\n",
      "   \"name\": \"Aura\"\n",
      "  },\n",
      "  {\n",
      "   \"name\": \"Safelite\"\n",
      "  },\n",
      "  {\n",
      "   \"name\": \"Irving\"\n",
      "  },\n",
      "  {\n",
      "   \"name\": \"99\"\n",
      "  },\n",
      "  {\n",
      "   \"name\": \"LifeBrand\"\n",
      "  },\n",
      "  {\n",
      "   \"name\": \"Ace Ticket\"\n",
      "  },\n",
      "  {\n",
      "   \"name\": \"Replay Review\"\n",
      "  },\n",
      "  {\n",
      "   \"name\": \"Zoom\"\n",
      "  },\n",
      "  {\n",
      "   \"name\": \"Casamigos\"\n",
      "  },\n",
      "  {\n",
      "   \"name\": \"Tequila\"\n",
      "  },\n",
      "  {\n",
      "   \"name\": \"Modern\"\n",
      "  },\n",
      "  {\n",
      "   \"name\": \"F.W Webb\"\n",
      "  },\n",
      "  {\n",
      "   \"name\": \"Red Sox Foundation\"\n",
      "  },\n",
      "  {\n",
      "   \"name\": \"The Farmer's Dog\"\n",
      "  },\n",
      "  {\n",
      "   \"name\": \"Meijer\"\n",
      "  },\n",
      "  {\n",
      "   \"name\": \"Xfinity\"\n",
      "  },\n",
      "  {\n",
      "   \"name\": \"Dunkin\"\n",
      "  },\n",
      "  {\n",
      "   \"name\": \"DD\"\n",
      "  },\n",
      "  {\n",
      "   \"name\": \"We're driving sustainably\"\n",
      "  },\n",
      "  {\n",
      "   \"name\": \"WM\"\n",
      "  },\n",
      "  {\n",
      "   \"name\": \"BW\"\n",
      "  },\n",
      "  {\n",
      "   \"name\": \"Best Western\"\n",
      "  },\n",
      "  {\n",
      "   \"name\": \"Hotels & Resorts\"\n",
      "  },\n",
      "  {\n",
      "   \"name\": \"Plymouth Rock\"\n",
      "  },\n",
      "  {\n",
      "   \"name\": \"Assurance\"\n",
      "  },\n",
      "  {\n",
      "   \"name\": \"Gulf\"\n",
      "  },\n",
      "  {\n",
      "   \"name\": \"Apple TV+\"\n",
      "  },\n",
      "  {\n",
      "   \"name\": \"Friday Night Baseball\"\n",
      "  }\n",
      " ]\n",
      "}\n",
      "```"
     ]
    }
   ],
   "source": [
    "prompt = \"\"\"\n",
    "Answer the following questions using the video only:\n",
    "- What are the names and their numbers of baseball players appeared in this video?\n",
    "- What are commercial logos appeared in this video?\n",
    "Provide the answer JSON.\n",
    "\"\"\"\n",
    "video = Part.from_uri(\n",
    "    uri=\"gs://gemini-bucket-373/Tigers vs. Red Sox Game Highlights (5_31_24) _ MLB Highlights.mp4\",\n",
    "    mime_type=\"video/mp4\",\n",
    ")\n",
    "contents = [prompt, video]\n",
    "\n",
    "responses = multimodal_model.generate_content(contents, stream=True)\n",
    "\n",
    "print(\"-------Prompt--------\")\n",
    "print_multimodal_prompt(contents)\n",
    "\n",
    "print(\"\\n-------Response--------\")\n",
    "for response in responses:\n",
    "    print(response.text, end=\"\")"
   ]
  },
  {
   "cell_type": "markdown",
   "metadata": {
    "id": "9LurOmNuRpDr"
   },
   "source": [
    "## Use Case 3: Advanced insight in video ( one shot/ few shot prompting)\n"
   ]
  },
  {
   "cell_type": "code",
   "execution_count": null,
   "metadata": {
    "colab": {
     "base_uri": "https://localhost:8080/"
    },
    "id": "-CY-zlixU87O",
    "outputId": "360ee28f-6f87-49df-f005-12b7ded61785",
    "tags": []
   },
   "outputs": [
    {
     "name": "stdout",
     "output_type": "stream",
     "text": [
      "-------Prompt--------\n",
      "\n",
      "\n",
      "- Suggest optimal ad placements (MM:SS) in this video for maximum viewer attention, with explanations?\n",
      "\n",
      "<EXAMPLE>\n",
      "INPUT: gs://gemini-bucket-373/Tigers vs. Red Sox Game Highlights (5_31_24) _ MLB Highlights.mp4\n",
      "OUTPUT: \n",
      "\n",
      "07:08: it is a good spot for ads because it is right after exciting moment, viewers often watch the replay\n",
      "03:56: this is a good spot for ads, because it is during pitching changes, provides a brief pause for a seamless ads transition\n",
      "\n",
      "</EXAMPLE>\n",
      "\n",
      "-  Condense this video's most exciting and crucial moments into a highlight reel so TV channels can use during their evening news program for summary of the day's news? \n",
      "\n",
      "\n",
      "<EXAMPLE>\n",
      "\n",
      "INPUT: gs://gemini-bucket-373/Tigers vs. Red Sox Game Highlights (5_31_24) _ MLB Highlights.mp4\n",
      "OUTPUT:\n",
      "\n",
      "00:13 - 00:22:  Gio Urshela of the Red Sox hit his second home run, including a sizzling line drive that went deep into the monster seats\n",
      "\n",
      "01:18 - 01:25:  Despite Torkelson's struggles at the plate, Manuel Valdez delivered with two home runs for the Red Sox, showcasing his ability to perform under pressure.\n",
      "\n",
      "02:19 - 02:28:  SRiley Greene of the Tigers dominated the opening, hitting a home run, stealing a base\n",
      "\n",
      "\n",
      "</EXAMPLE>\n",
      "\n",
      "https://storage.googleapis.com/gemini-bucket-373/Tigers vs. Red Sox Game Highlights (5_31_24) _ MLB Highlights.mp4\n"
     ]
    },
    {
     "data": {
      "text/html": [
       "<video src=\"https://storage.googleapis.com/gemini-bucket-373/Tigers vs. Red Sox Game Highlights (5_31_24) _ MLB Highlights.mp4\" controls  width=\"600\" >\n",
       "      Your browser does not support the <code>video</code> element.\n",
       "    </video>"
      ],
      "text/plain": [
       "<IPython.core.display.Video object>"
      ]
     },
     "metadata": {},
     "output_type": "display_data"
    },
    {
     "name": "stdout",
     "output_type": "stream",
     "text": [
      "\n",
      "-------Response--------\n",
      "## Optimal Ad Placements:\n",
      "\n",
      "**00:17 - 00:18:**  Right after the exciting \"snow cone\" catch by Grisson. Viewers are likely to pause and replay this moment, making it an ideal spot for an ad.\n",
      "\n",
      "**01:04 - 01:05:**  During the replay review of Green's stolen base, viewers will be attentive to the screen, making this a great time for an ad.\n",
      "\n",
      "**02:16 - 02:17:** During the pitching change, viewers might be taking a quick break, making this a good spot for a short and seamless ad.\n",
      "\n",
      "**03:5"
     ]
    }
   ],
   "source": [
    "prompt = \"\"\"\n",
    "\n",
    "- Suggest optimal ad placements (MM:SS) in this video for maximum viewer attention, with explanations?\n",
    "\n",
    "<EXAMPLE>\n",
    "INPUT: gs://gemini-bucket-373/Tigers vs. Red Sox Game Highlights (5_31_24) _ MLB Highlights.mp4\n",
    "OUTPUT: \n",
    "\n",
    "07:08: it is a good spot for ads because it is right after exciting moment, viewers often watch the replay\n",
    "03:56: this is a good spot for ads, because it is during pitching changes, provides a brief pause for a seamless ads transition\n",
    "\n",
    "</EXAMPLE>\n",
    "\n",
    "-  Condense this video's most exciting and crucial moments into a highlight reel so TV channels can use during their evening news program for summary of the day's news? \n",
    "\n",
    "\n",
    "<EXAMPLE>\n",
    "\n",
    "INPUT: gs://gemini-bucket-373/Tigers vs. Red Sox Game Highlights (5_31_24) _ MLB Highlights.mp4\n",
    "OUTPUT:\n",
    "\n",
    "00:13 - 00:22:  Gio Urshela of the Red Sox hit his second home run, including a sizzling line drive that went deep into the monster seats\n",
    "\n",
    "01:18 - 01:25:  Despite Torkelson's struggles at the plate, Manuel Valdez delivered with two home runs for the Red Sox, showcasing his ability to perform under pressure.\n",
    "\n",
    "02:19 - 02:28:  SRiley Greene of the Tigers dominated the opening, hitting a home run, stealing a base\n",
    "\n",
    "\n",
    "</EXAMPLE>\n",
    "\"\"\"\n",
    "video = Part.from_uri(\n",
    "    uri=\"gs://gemini-bucket-373/Tigers vs. Red Sox Game Highlights (5_31_24) _ MLB Highlights.mp4\",\n",
    "    mime_type=\"video/mp4\",\n",
    ")\n",
    "contents = [prompt, video]\n",
    "\n",
    "responses = multimodal_model.generate_content(contents, stream=True)\n",
    "\n",
    "print(\"-------Prompt--------\")\n",
    "print_multimodal_prompt(contents)\n",
    "\n",
    "print(\"\\n-------Response--------\")\n",
    "for response in responses:\n",
    "    print(response.text, end=\"\")"
   ]
  },
  {
   "cell_type": "code",
   "execution_count": null,
   "metadata": {},
   "outputs": [],
   "source": []
  }
 ],
 "metadata": {
  "colab": {
   "provenance": [],
   "toc_visible": true
  },
  "environment": {
   "kernel": "conda-base-py",
   "name": "workbench-notebooks.m121",
   "type": "gcloud",
   "uri": "us-docker.pkg.dev/deeplearning-platform-release/gcr.io/workbench-notebooks:m121"
  },
  "kernelspec": {
   "display_name": "Python 3 (ipykernel) (Local)",
   "language": "python",
   "name": "conda-base-py"
  },
  "language_info": {
   "codemirror_mode": {
    "name": "ipython",
    "version": 3
   },
   "file_extension": ".py",
   "mimetype": "text/x-python",
   "name": "python",
   "nbconvert_exporter": "python",
   "pygments_lexer": "ipython3",
   "version": "3.10.14"
  }
 },
 "nbformat": 4,
 "nbformat_minor": 4
}
